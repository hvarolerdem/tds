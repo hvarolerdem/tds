{
 "cells": [
  {
   "cell_type": "code",
   "execution_count": 1,
   "metadata": {},
   "outputs": [],
   "source": [
    "import math"
   ]
  },
  {
   "cell_type": "markdown",
   "metadata": {},
   "source": [
    "#### Define an item set with binary relevance labels (0 and 1)"
   ]
  },
  {
   "cell_type": "code",
   "execution_count": 2,
   "metadata": {},
   "outputs": [],
   "source": [
    "set_x1 = {\n",
    "    'i1':1,\n",
    "    'i2':1,\n",
    "    'i4':2,\n",
    "    'i3':0,\n",
    "    'i5':0\n",
    "}"
   ]
  },
  {
   "cell_type": "markdown",
   "metadata": {},
   "source": [
    "#### Normalized Discounted Cumulative Gain "
   ]
  },
  {
   "cell_type": "code",
   "execution_count": 3,
   "metadata": {},
   "outputs": [],
   "source": [
    "def normalized_discounted_cumulative_gain(temp_set, p=5):\n",
    "    dc_gain = 0\n",
    "    idc_gain = 0\n",
    "    for idx, value in enumerate(temp_set.values()):\n",
    "        pos = idx + 1\n",
    "        dc_gain += value / math.log2(pos + 1)\n",
    "        if pos == p:\n",
    "            break\n",
    "    for idx, value in enumerate(sorted(temp_set.values(), reverse=True)):\n",
    "        pos = idx + 1\n",
    "        idc_gain += value / math.log2(pos + 1)\n",
    "        if pos == p:\n",
    "            break        \n",
    "    return round(dc_gain / idc_gain, 5)"
   ]
  },
  {
   "cell_type": "markdown",
   "metadata": {},
   "source": [
    "#### Normalized Discounted Cumulative Gain of the set for all positions"
   ]
  },
  {
   "cell_type": "code",
   "execution_count": 4,
   "metadata": {},
   "outputs": [
    {
     "name": "stdout",
     "output_type": "stream",
     "text": [
      "The normalized discounted cumulative gain of the set is:  0.8403\n"
     ]
    }
   ],
   "source": [
    "print(\"The normalized discounted cumulative gain of the set is: \",normalized_discounted_cumulative_gain(set_x1, 5))"
   ]
  },
  {
   "cell_type": "code",
   "execution_count": null,
   "metadata": {},
   "outputs": [],
   "source": []
  }
 ],
 "metadata": {
  "kernelspec": {
   "display_name": "Python 3",
   "language": "python",
   "name": "python3"
  },
  "language_info": {
   "codemirror_mode": {
    "name": "ipython",
    "version": 3
   },
   "file_extension": ".py",
   "mimetype": "text/x-python",
   "name": "python",
   "nbconvert_exporter": "python",
   "pygments_lexer": "ipython3",
   "version": "3.7.4"
  }
 },
 "nbformat": 4,
 "nbformat_minor": 2
}
