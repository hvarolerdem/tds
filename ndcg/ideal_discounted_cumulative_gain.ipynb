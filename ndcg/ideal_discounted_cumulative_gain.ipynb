{
 "cells": [
  {
   "cell_type": "code",
   "execution_count": 1,
   "metadata": {},
   "outputs": [],
   "source": [
    "import math"
   ]
  },
  {
   "cell_type": "markdown",
   "metadata": {},
   "source": [
    "#### Define an item set with binary relevance labels (0 and 1)"
   ]
  },
  {
   "cell_type": "code",
   "execution_count": 2,
   "metadata": {},
   "outputs": [],
   "source": [
    "set_ideal = {\n",
    "    'i1':1,\n",
    "    'i2':1,\n",
    "    'i4':1,\n",
    "    'i3':0,\n",
    "    'i5':0\n",
    "}"
   ]
  },
  {
   "cell_type": "markdown",
   "metadata": {},
   "source": [
    "#### Discounted Cumulative Gain "
   ]
  },
  {
   "cell_type": "code",
   "execution_count": 3,
   "metadata": {},
   "outputs": [],
   "source": [
    "def discounted_cumulative_gain(temp_set):\n",
    "    dc_gain = 0\n",
    "    for idx, value in enumerate(temp_set.values()):\n",
    "        pos = idx + 1\n",
    "        dc_gain += value / math.log2(pos + 1)\n",
    "    return dc_gain   "
   ]
  },
  {
   "cell_type": "markdown",
   "metadata": {},
   "source": [
    "#### Discounted Cumulative Gain of the ideal set"
   ]
  },
  {
   "cell_type": "code",
   "execution_count": 4,
   "metadata": {},
   "outputs": [
    {
     "name": "stdout",
     "output_type": "stream",
     "text": [
      "The discounted cumulative gain of the ideal set is:  2.1309297535714578\n"
     ]
    }
   ],
   "source": [
    "print(\"The discounted cumulative gain of the ideal set is: \",discounted_cumulative_gain(set_ideal))"
   ]
  }
 ],
 "metadata": {
  "kernelspec": {
   "display_name": "Python 3",
   "language": "python",
   "name": "python3"
  },
  "language_info": {
   "codemirror_mode": {
    "name": "ipython",
    "version": 3
   },
   "file_extension": ".py",
   "mimetype": "text/x-python",
   "name": "python",
   "nbconvert_exporter": "python",
   "pygments_lexer": "ipython3",
   "version": "3.7.4"
  }
 },
 "nbformat": 4,
 "nbformat_minor": 2
}
